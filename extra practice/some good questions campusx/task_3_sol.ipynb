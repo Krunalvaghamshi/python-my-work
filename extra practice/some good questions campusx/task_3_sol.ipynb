{
 "cells": [
  {
   "cell_type": "code",
   "execution_count": null,
   "metadata": {},
   "outputs": [],
   "source": [
    "# list1 = [\"M\", \"na\", \"i\", \"Kh\"]\n",
    "# list2 = [\"y\", \"me\", \"s\", \"an\"]\n",
    "#  [['M','y'], ['na', me'], ['i', 's'], ['Kh', 'an']]\n",
    "\n",
    "#  Write a program to add two lists index-wise. Create a new list that contains the 0th index item from both the list, \n",
    "# then the 1st index item, and so on till the last element. any leftover items will get added at the end of the new list.\n",
    "\n",
    "list1 = [\"M\", \"na\", \"i\", \"Kh\"]\n",
    "list2 = [\"y\", \"me\", \"s\", \"an\"]\n",
    "\n",
    "# list3 = [list1.insert(list1,list2)]\n",
    "# list3 = [i for i in range(4)  [list1[i]] + [list2[i]] ]\n",
    "list3 = [\"\",\"\",\"\",\"\"]\n",
    "for i in range(len(list1)):\n",
    "    list3[i] = [list1[i]] + [list2[i]]\n",
    "    # print(list3)\n",
    "\n",
    "print(list3)\n",
    "\n"
   ]
  },
  {
   "cell_type": "code",
   "execution_count": null,
   "metadata": {},
   "outputs": [],
   "source": [
    "list1 = [1, 2, 3]\n",
    "list2 = ['a', 'b', 'c', 'd', 'e']\n",
    "\n",
    "\n",
    "new_list = []\n",
    "length = max(len(list1), len(list2))\n",
    "    \n",
    "for i in range(length):\n",
    "        if i < len(list1):\n",
    "            new_list.append(list1[i])\n",
    "        if i < len(list2):\n",
    "            new_list.append(list2[i])\n",
    "\n",
    "print(new_list)            "
   ]
  },
  {
   "cell_type": "code",
   "execution_count": null,
   "metadata": {},
   "outputs": [],
   "source": [
    "# Problem 2:` Add new item to list after a specified item\n",
    "# Write a program to add item 7000 after 6000 in the following Python List\n",
    "\n",
    "# list1 = [10, 20, [300, 400, [5000, 6000], 500], 30, 40]\n",
    "# `Output:  [10, 20, [300, 400, [5000, 6000, 7000], 500], 30, 40]\n",
    "\n",
    "list1 = [10, 20, [300, 400, [5000, 6000], 500], 30, 40]\n",
    "# list1[2].extend(7000)\n",
    "list1[2][2].insert(2,7000)\n",
    "\n",
    "list1"
   ]
  },
  {
   "cell_type": "code",
   "execution_count": null,
   "metadata": {},
   "outputs": [],
   "source": [
    "# Problem 2:` Add new item to list after a specified item\n",
    "# Write a program to add item 7000 after 6000 in the following Python List\n",
    "\n",
    "# list1 = [10, 20, [300, 400, [5000, 6000], 500], 30, 40]\n",
    "# `Output:  [10, 20, [300, 400, [5000, 6000, 7000], 500], 30, 40]\n",
    "\n",
    "list1 = [10, 20, [300, 400, [5000, 6000], 500], 30, 40]\n",
    "# list1[2].extend(7000)\n",
    "list1[2][2].insert(2,7000)\n",
    "\n",
    "list1"
   ]
  },
  {
   "cell_type": "code",
   "execution_count": null,
   "metadata": {},
   "outputs": [],
   "source": [
    "# Suppose you are given a list of candy and another list of same size representing no of items of respective candy. \n",
    "\n",
    "# candy_list = ['Jelly Belly','Kit Kat','Double Bubble','Milky Way','Three Musketeers']\n",
    "# no_of_items = [10,20,34,74,32]\n",
    "# Write a program to show no. of items of each candy type.\n",
    "# Output: Jelly Belly-10    Kit Kat-20   Double Bubble-34     Milky Way-74     Three Musketeers-32\n",
    "\n",
    "\n",
    "candy_list = ['Jelly Belly','Kit Kat','Double Bubble','Milky Way','Three Musketeers']\n",
    "no_of_items = [10,20,34,74,32]\n",
    "\n",
    "for i in range(len(no_of_items)):\n",
    "    #  print(f\"{candy_list[i]}-{no_of_items[i]}\")\n",
    "     print(candy_list[i],no_of_items[i],sep=\"-\")\n"
   ]
  },
  {
   "cell_type": "code",
   "execution_count": null,
   "metadata": {},
   "outputs": [],
   "source": [
    "#  Write a program to print a list after performing running sum on it\n",
    "# Input: list1 = [1,2,3,4,5,6]\n",
    "# Output:  [1,3,6,10,15,21]\n",
    "\n",
    "list1 = [1,2,3,4,5,6]\n",
    "summ= 0 \n",
    "num = [ ]\n",
    "for i in range(len(list1)):\n",
    "    summ += list1[i]\n",
    "    num.append(summ)\n",
    "    # print((summ))\n",
    "\n",
    "print(num)"
   ]
  },
  {
   "cell_type": "code",
   "execution_count": 16,
   "metadata": {},
   "outputs": [
    {
     "name": "stdout",
     "output_type": "stream",
     "text": [
      "2\n",
      "6\n",
      "12\n",
      "22\n",
      "23\n"
     ]
    }
   ],
   "source": [
    "\n",
    "# Problem 5: You are given a list of integers. You are asked to make a list by running through elements of the list by adding all elements greater and itself.\n",
    "# i.e. Say given list is [2,4,6,10,1] resultant list will be [22,20,10,23].\n",
    "# For 1st element 2 ->> these are greater (4+6+10) values and 2 itself so on adding becomes 22.\n",
    "# For 2nd element 4 ->> greater elements are (6, 10) and 4 itself, so on adding 20\n",
    "# like wise for all other elememts.    #  [2,4,6,10,1]-->[22,20,16,10,23]\n",
    "\n",
    "ll = [2,4,6,10,1] \n",
    "\n",
    "ss =0 \n",
    "\n",
    "for j in ll:\n",
    "    # print(j)\n",
    "    k = j\n",
    "\n",
    "\n",
    "for i in ll :\n",
    "    # print(i)\n",
    "    if i >= j:\n",
    "      ss +=i\n",
    "     # print(ss)\n",
    "    print(ss)"
   ]
  },
  {
   "cell_type": "code",
   "execution_count": 17,
   "metadata": {},
   "outputs": [
    {
     "name": "stdout",
     "output_type": "stream",
     "text": [
      "[22, 20, 16, 10, 23]\n"
     ]
    }
   ],
   "source": [
    "def sum_greater_elements(input_list):\n",
    "    result = []\n",
    "    for i in input_list:\n",
    "        total = sum(x for x in input_list if x >= i)\n",
    "        result.append(total)\n",
    "    return result\n",
    "\n",
    "# Example usage\n",
    "input_list = [2, 4, 6, 10, 1]\n",
    "resultant_list = sum_greater_elements(input_list)\n",
    "print(resultant_list)  # Output: [22, 20, 16, 10, 23]\n"
   ]
  },
  {
   "cell_type": "code",
   "execution_count": 20,
   "metadata": {},
   "outputs": [
    {
     "name": "stdout",
     "output_type": "stream",
     "text": [
      "[22, 20, 16, 10, 23]\n"
     ]
    }
   ],
   "source": [
    "l22 = [2, 4, 6, 10, 1]\n",
    "result = [sum(x for x in l22 if x >= num) for num in l22]\n",
    "print(result)\n"
   ]
  },
  {
   "cell_type": "code",
   "execution_count": 22,
   "metadata": {},
   "outputs": [
    {
     "name": "stdout",
     "output_type": "stream",
     "text": [
      "[[34], [89], [], [], [], [67]]\n"
     ]
    }
   ],
   "source": [
    "# Problem 6: Find list of common unique items from two list. and show in increasing order\n",
    "# Input   # num1 = [23,45,67,78,89,34]    # num2 = [34,89,55,56,39,67]\n",
    "# Output:    # [34, 67, 89]\n",
    "\n",
    "num1 = [23,45,67,78,89,34]\n",
    "num2 = [34,89,55,56,39,67]\n",
    "\n",
    "r = [sorted(x for x in num1 if x == y ) for y in num2]\n",
    "print(r)\n"
   ]
  },
  {
   "cell_type": "code",
   "execution_count": 29,
   "metadata": {},
   "outputs": [
    {
     "name": "stdout",
     "output_type": "stream",
     "text": [
      "67\n",
      "89\n",
      "34\n",
      "[34, 67, 89]\n"
     ]
    }
   ],
   "source": [
    "num1 = [23,45,67,78,89,34]\n",
    "num2 = [34,89,55,56,39,67]\n",
    "\n",
    "j = [ ]\n",
    "\n",
    "for y in num1 :\n",
    "    for x in num2 :\n",
    "        if y == x :\n",
    "            print(y)\n",
    "            j.append(y)\n",
    "            \n",
    "print(sorted(j))\n"
   ]
  },
  {
   "cell_type": "code",
   "execution_count": null,
   "metadata": {},
   "outputs": [],
   "source": [
    "# Problem 7: Sort a list of alphanumeric strings based on product value of numeric character in it. If in any string there is no numeric character take it's product value as 1.\n",
    "# Input:  # ['1ac21', '23fg', '456', '098d','1','kls']\n",
    "# Output:  # ['456', '23fg', '1ac21', '1', 'kls', '098d']\n",
    "\n",
    "input_list = ['1ac21', '23fg', '456', '098d', '1', 'kls']\n",
    "\n",
    "sorted_list = sorted(input_list, key=lambda x: (eval('*'.join([c for c in x if c.isdigit()])) if any(c.isdigit() for c in x) else 1))\n",
    "\n",
    "print(sorted_list)\n"
   ]
  },
  {
   "cell_type": "code",
   "execution_count": null,
   "metadata": {},
   "outputs": [],
   "source": [
    "# Problem 8: Split String of list on K character.\n",
    "\n",
    "# Example :  # Input:  # ['CampusX is a channel', 'for data-science', 'aspirants.']\n",
    "# Output:  # ['CampusX', 'is', 'a', 'channel', 'for', 'data-science', 'aspirants.']\n",
    "\n",
    "input_list = ['CampusX is a channel', 'for data-science', 'aspirants.']\n",
    "output_list = [word for sentence in input_list for word in sentence.split()]\n",
    "print(output_list)\n"
   ]
  },
  {
   "cell_type": "code",
   "execution_count": null,
   "metadata": {},
   "outputs": [],
   "source": [
    "input_list = ['CampusX is a channel', 'for data-science', 'aspirants.']\n",
    "output_list = []\n",
    "\n",
    "for string in input_list:\n",
    "    words = string.split()\n",
    "    for word in words:\n",
    "        output_list.append(word)\n",
    "\n",
    "print(output_list)\n"
   ]
  },
  {
   "cell_type": "code",
   "execution_count": 34,
   "metadata": {},
   "outputs": [
    {
     "name": "stdout",
     "output_type": "stream",
     "text": [
      "campux is best channel\n"
     ]
    }
   ],
   "source": [
    "# Problem 9: Convert Character Matrix to single String using string comprehension.\n",
    "# Example 1:\n",
    "# Input:  # [['c', 'a', 'm', 'p', 'u', 'x'], ['i', 's'], ['b', 'e', 's', 't'], ['c', 'h', 'a', 'n', 'n', 'e', 'l']]\n",
    "# Output:  #  campux is best channel\n",
    "\n",
    "mat = [['c', 'a', 'm', 'p', 'u', 'x'], ['i', 's'], ['b', 'e', 's', 't'], ['c', 'h', 'a', 'n', 'n', 'e', 'l']]\n",
    "\n",
    "string = ' '.join(''.join(row) for row in mat )\n",
    "print(string)\n"
   ]
  },
  {
   "cell_type": "code",
   "execution_count": 35,
   "metadata": {},
   "outputs": [
    {
     "name": "stdout",
     "output_type": "stream",
     "text": [
      "['campusx Is', 'best For', 'data Scientist']\n"
     ]
    }
   ],
   "source": [
    "# Problem 10: Add Space between Potential Words.\n",
    "# Example:\n",
    "# Input:  # ['campusxIs', 'bestFor', 'dataScientist']\n",
    "# Output: # ['campusx Is', 'best For', 'data Scientist']\n",
    "\n",
    "input_list = ['campusxIs', 'bestFor', 'dataScientist']\n",
    "output_list = [''.join([' ' + char if char.isupper() else char for char in word]).lstrip() for word in input_list]\n",
    "print(output_list)"
   ]
  },
  {
   "cell_type": "code",
   "execution_count": 37,
   "metadata": {},
   "outputs": [
    {
     "name": "stdout",
     "output_type": "stream",
     "text": [
      "[1, 2, 3, 4, 5, 7, 8]\n"
     ]
    }
   ],
   "source": [
    "# Problem 11: Write a program that can perform union operation on 2 lists\n",
    "# Example: # Input:  # [1,2,3,4,5,1]    #  [2,3,5,7,8]\n",
    "# Output:  #  [1,2,3,4,5,7,8]\n",
    "\n",
    "lll = [1,2,3,4,5,1]\n",
    "lll2 = [2,3,5,7,8]\n",
    "\n",
    "res = list(set(lll) | set(lll2))\n",
    "\n",
    "print(res)"
   ]
  },
  {
   "cell_type": "code",
   "execution_count": 41,
   "metadata": {},
   "outputs": [
    {
     "name": "stdout",
     "output_type": "stream",
     "text": [
      "[3, 6, 9]\n"
     ]
    }
   ],
   "source": [
    "# Problem 12: Write a program that can find the max number of each row of a matrix\n",
    "# Example:  # Input:  # [[1,2,3],[4,5,6],[7,8,9]]\n",
    "# Output:  # [3,6,9]\n",
    "\n",
    "matrix = [[1, 2, 3], [4, 5, 6], [7, 8, 9]]\n",
    "# for row in matrix:\n",
    "#     print(max(row))\n",
    "\n",
    "max_values = [max(row) for row in matrix]\n",
    "print(max_values)"
   ]
  },
  {
   "cell_type": "code",
   "execution_count": 42,
   "metadata": {},
   "outputs": [
    {
     "name": "stdout",
     "output_type": "stream",
     "text": [
      "[[0, 1, 2], [3, 4, 5], [6, 7, 8]]\n"
     ]
    }
   ],
   "source": [
    "# Problem 13: Write a list comprehension to print the following matrix\n",
    "# [[0, 1, 2], [3, 4, 5], [6, 7, 8]]\n",
    "\n",
    "matt = [[0, 1, 2], [3, 4, 5], [6, 7, 8]]\n",
    "\n",
    "result13 =[row for row in matt]\n",
    "print(result13)  "
   ]
  },
  {
   "cell_type": "code",
   "execution_count": 46,
   "metadata": {},
   "outputs": [
    {
     "name": "stdout",
     "output_type": "stream",
     "text": [
      "[[0, 1, 2], [3, 4, 5], [6, 7, 8]]\n"
     ]
    }
   ],
   "source": [
    "matrix = [[j for j in range(i * 3, (i + 1) * 3)] for i in range(3)]\n",
    "print(matrix)"
   ]
  },
  {
   "cell_type": "code",
   "execution_count": 47,
   "metadata": {},
   "outputs": [
    {
     "name": "stdout",
     "output_type": "stream",
     "text": [
      "[[1, 4, 7], [2, 5, 8], [3, 6, 9]]\n"
     ]
    }
   ],
   "source": [
    "#  Write a list comprehension that can transpose a given matrix\n",
    "# matrix = [\n",
    "# [1,2,3],\n",
    "# [4,5,6],\n",
    "# [7,8,9]\n",
    "# ]\n",
    "\n",
    "# [1, 4, 7]\n",
    "# [2, 5, 8]\n",
    "# [3, 6, 9]\n",
    "\n",
    "matrix = [\n",
    "    [1, 2, 3],\n",
    "    [4, 5, 6],\n",
    "    [7, 8, 9]\n",
    "]\n",
    "\n",
    "transposed = [[row[i] for row in matrix] for i in range(len(matrix[0]))]\n",
    "print(transposed)\n"
   ]
  },
  {
   "cell_type": "code",
   "execution_count": 48,
   "metadata": {},
   "outputs": [
    {
     "name": "stdout",
     "output_type": "stream",
     "text": [
      "[1, 2, 3, 4, 5, 6, 7, 8, 9]\n"
     ]
    }
   ],
   "source": [
    "# Problem 15: Write a list comprehension that can flatten a nested list\n",
    "# Input\n",
    "# matrix = [\n",
    "# [1,2,3],\n",
    "# [4,5,6],\n",
    "# [7,8,9]\n",
    "# ]\n",
    "\n",
    "# Output:\n",
    "# [1, 2, 3, 4, 5, 6, 7, 8, 9]\n",
    "\n",
    "matrix = [\n",
    "    [1, 2, 3],\n",
    "    [4, 5, 6],\n",
    "    [7, 8, 9]\n",
    "]\n",
    "\n",
    "flattened = [item for sublist in matrix for item in sublist]\n",
    "print(flattened)\n"
   ]
  },
  {
   "cell_type": "code",
   "execution_count": null,
   "metadata": {},
   "outputs": [],
   "source": []
  }
 ],
 "metadata": {
  "kernelspec": {
   "display_name": "Python 3",
   "language": "python",
   "name": "python3"
  },
  "language_info": {
   "codemirror_mode": {
    "name": "ipython",
    "version": 3
   },
   "file_extension": ".py",
   "mimetype": "text/x-python",
   "name": "python",
   "nbconvert_exporter": "python",
   "pygments_lexer": "ipython3",
   "version": "3.11.4"
  }
 },
 "nbformat": 4,
 "nbformat_minor": 2
}
