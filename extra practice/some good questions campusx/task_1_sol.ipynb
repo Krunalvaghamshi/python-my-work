{
 "cells": [
  {
   "cell_type": "code",
   "execution_count": 22,
   "metadata": {},
   "outputs": [
    {
     "name": "stdout",
     "output_type": "stream",
     "text": [
      "Data-Science-Mentorship-Program-By-CampusX\n"
     ]
    }
   ],
   "source": [
    "#  Q1 :- Print the given strings as per stated format.\n",
    "\n",
    "# \"Data\" \"Science\" \"Mentorship\" \"Program\" \n",
    "# \"By\" \"CampusX\"\n",
    "\n",
    "# Data-Science-Mentorship-Program-started-By-CampusX\n",
    "\n",
    "print(\"Data\", \"Science\", \"Mentorship\", \"Program\",\"By\", \"CampusX\",sep=\"-\" )\n"
   ]
  },
  {
   "cell_type": "code",
   "execution_count": 23,
   "metadata": {},
   "outputs": [
    {
     "ename": "ValueError",
     "evalue": "could not convert string to float: ''",
     "output_type": "error",
     "traceback": [
      "\u001b[1;31m---------------------------------------------------------------------------\u001b[0m",
      "\u001b[1;31mValueError\u001b[0m                                Traceback (most recent call last)",
      "Cell \u001b[1;32mIn[23], line 3\u001b[0m\n\u001b[0;32m      1\u001b[0m \u001b[38;5;66;03m# Q2:- Write a program that will convert celsius value to fahrenheit\u001b[39;00m\n\u001b[1;32m----> 3\u001b[0m cel\u001b[38;5;241m=\u001b[39m\u001b[38;5;28;43mfloat\u001b[39;49m\u001b[43m(\u001b[49m\u001b[38;5;28;43minput\u001b[39;49m\u001b[43m(\u001b[49m\u001b[38;5;124;43m\"\u001b[39;49m\u001b[38;5;124;43menter celsius (for converting into fahrenheit )= \u001b[39;49m\u001b[38;5;124;43m\"\u001b[39;49m\u001b[43m)\u001b[49m\u001b[43m)\u001b[49m\n\u001b[0;32m      5\u001b[0m convert \u001b[38;5;241m=\u001b[39m cel \u001b[38;5;241m*\u001b[39m (\u001b[38;5;241m9\u001b[39m\u001b[38;5;241m/\u001b[39m\u001b[38;5;241m5\u001b[39m) \u001b[38;5;241m+\u001b[39m \u001b[38;5;241m32\u001b[39m\n\u001b[0;32m      7\u001b[0m \u001b[38;5;28mprint\u001b[39m(\u001b[38;5;124mf\u001b[39m\u001b[38;5;124m\"\u001b[39m\u001b[38;5;124mcelsius \u001b[39m\u001b[38;5;124m'\u001b[39m\u001b[38;5;132;01m{\u001b[39;00mcel\u001b[38;5;132;01m}\u001b[39;00m\u001b[38;5;124m'\u001b[39m\u001b[38;5;124m into farenheit = \u001b[39m\u001b[38;5;132;01m{\u001b[39;00mconvert\u001b[38;5;132;01m}\u001b[39;00m\u001b[38;5;124m \u001b[39m\u001b[38;5;124m\"\u001b[39m)\n",
      "\u001b[1;31mValueError\u001b[0m: could not convert string to float: ''"
     ]
    }
   ],
   "source": [
    "# Q2:- Write a program that will convert celsius value to fahrenheit\n",
    "\n",
    "cel=float(input(\"enter celsius (for converting into fahrenheit )= \"))\n",
    "\n",
    "convert = cel * (9/5) + 32\n",
    "\n",
    "print(f\"celsius '{cel}' into farenheit = {convert} \")"
   ]
  },
  {
   "cell_type": "code",
   "execution_count": 3,
   "metadata": {},
   "outputs": [
    {
     "name": "stdout",
     "output_type": "stream",
     "text": [
      " original = 33 , 66\n",
      " swapped = 66 , 33\n"
     ]
    }
   ],
   "source": [
    "# Q3:- Take 2 numbers as input from the user.Write a program to swap the numbers without using any special python syntax.\n",
    "\n",
    "a = input(\" enter an variable = \")\n",
    "b = input(\" enter an variable = \")\n",
    "\n",
    "print(f\" original = {a} , {b}\")\n",
    "\n",
    "temp = a\n",
    "a = b\n",
    "b = temp\n",
    "\n",
    "print(f\" swapped = {a} , {b}\")\n",
    "\n",
    "# check wether this is right or not \n"
   ]
  },
  {
   "cell_type": "code",
   "execution_count": 5,
   "metadata": {},
   "outputs": [
    {
     "name": "stdout",
     "output_type": "stream",
     "text": [
      "25\n"
     ]
    }
   ],
   "source": [
    "# Q4:- Write a program to find the euclidean distance between two coordinates.\n",
    "# Take both the coordinates from the user as input.\n",
    "\n",
    "#  D = ( x 2 − x 1 ) 2 + ( y 2 − y 1 ) 2\n",
    "\n",
    "x1 = int(input('enter value of x1 == '))\n",
    "x2 = int(input('enter value of x2 == '))\n",
    "y1 = int(input('enter value of y1 == '))\n",
    "y2 = int(input('enter value of y2 == '))\n",
    "\n",
    "d =(x2 - x1)**2 + (y2 - y1)**2\n",
    "\n",
    "print(d)"
   ]
  },
  {
   "cell_type": "code",
   "execution_count": 7,
   "metadata": {},
   "outputs": [
    {
     "name": "stdout",
     "output_type": "stream",
     "text": [
      "2640.0\n"
     ]
    }
   ],
   "source": [
    "# Q5:- Write a program to find the simple interest when the value of principle,\n",
    "# rate of interest and time period is provided by the user.\n",
    "\n",
    "p=int(input('enter principal amount == '))\n",
    "r=float(input('enter the rate of interest == '))\n",
    "t=int(input('enter the time period -- ( in months ) == '))\n",
    "\n",
    "interest= p*r*t/100\n",
    "\n",
    "print(interest)"
   ]
  },
  {
   "cell_type": "code",
   "execution_count": 12,
   "metadata": {},
   "outputs": [
    {
     "name": "stdout",
     "output_type": "stream",
     "text": [
      "dogs == 3 --> chickens == 3\n"
     ]
    }
   ],
   "source": [
    "# Q6:- Write a program that will tell the number of dogs and chicken are there when\n",
    "#  the user will provide the value of total heads and legs.\n",
    "# For example: Input: heads -> 4 legs -> 12\n",
    "# Output: dogs -> 2 chicken -> 2\n",
    "\n",
    "heads = int(input('enter the heads == '))\n",
    "legs = int(input('enter the legs == '))\n",
    "\n",
    "# dogs = heads/2\n",
    "# chicken = heads/2\n",
    "\n",
    "dogs = (legs - 2 * heads) // 2\n",
    "chicken = heads - dogs\n",
    "print(f'dogs == {dogs} --> chickens == {chicken}')"
   ]
  },
  {
   "cell_type": "code",
   "execution_count": 15,
   "metadata": {},
   "outputs": [
    {
     "name": "stdout",
     "output_type": "stream",
     "text": [
      "1\n",
      "5\n",
      "14\n",
      "14\n"
     ]
    }
   ],
   "source": [
    "# Q7:- Write a program to find the sum of squares of first n natural numbers where n will be provided by the user\n",
    "\n",
    "n = int(input('enter number == '))\n",
    "summ=0\n",
    "for i in range(1,n+1):\n",
    "    summ+=i**2\n",
    "    print(summ)\n",
    "\n",
    "print(summ)    "
   ]
  },
  {
   "cell_type": "code",
   "execution_count": 16,
   "metadata": {},
   "outputs": [
    {
     "name": "stdout",
     "output_type": "stream",
     "text": [
      "The 3th term of the series is: 99.0\n"
     ]
    }
   ],
   "source": [
    "# Q8:- Given the first 2 terms of an Arithmetic Series.Find the Nth term of the series.\n",
    "#  Assume all inputs are provided by the user.\n",
    "\n",
    "#  a, a + d, a + 2d, a + 3d, a + 4d, ………. ,a + (n – 1) d\n",
    "#  an = a + (n − 1) × d\n",
    "# d = a2 – a1 = a3 – a2 = ……. = an – an – 1\n",
    "#  Sn = n/2[2a + (n − 1) × d]\n",
    "\n",
    "# Input the first two terms of the arithmetic series\n",
    "first_term = float(input(\"Enter the first term: \"))\n",
    "second_term = float(input(\"Enter the second term: \"))\n",
    "\n",
    "# Calculate the common difference\n",
    "common_difference = second_term - first_term\n",
    "\n",
    "# Input the term number to find\n",
    "n = int(input(\"Enter the term number (N) to find: \"))\n",
    "\n",
    "# Calculate the Nth term\n",
    "nth_term = first_term + (n - 1) * common_difference\n",
    "\n",
    "# Output the Nth term\n",
    "print(f\"The {n}th term of the series is: {nth_term}\")"
   ]
  },
  {
   "cell_type": "code",
   "execution_count": 17,
   "metadata": {},
   "outputs": [
    {
     "name": "stdout",
     "output_type": "stream",
     "text": [
      "The sum of the two fractions is: 22/15\n"
     ]
    }
   ],
   "source": [
    "#  Q9:- Given 2 fractions, find the sum of those 2 fractions.\n",
    "# Take the numerator and denominator values of the fractions from the user.\n",
    "\n",
    "from fractions import Fraction\n",
    "\n",
    "# Taking input from the user\n",
    "numerator1 = int(input(\"Enter the numerator of the first fraction: \"))\n",
    "denominator1 = int(input(\"Enter the denominator of the first fraction: \"))\n",
    "numerator2 = int(input(\"Enter the numerator of the second fraction: \"))\n",
    "denominator2 = int(input(\"Enter the denominator of the second fraction: \"))\n",
    "\n",
    "# Creating Fraction objects\n",
    "fraction1 = Fraction(numerator1, denominator1)\n",
    "fraction2 = Fraction(numerator2, denominator2)\n",
    "\n",
    "# Calculating the sum of the two fractions\n",
    "result = fraction1 + fraction2\n",
    "\n",
    "# Displaying the result\n",
    "print(\"The sum of the two fractions is:\", result)\n",
    "\n"
   ]
  },
  {
   "cell_type": "code",
   "execution_count": 21,
   "metadata": {},
   "outputs": [
    {
     "name": "stdout",
     "output_type": "stream",
     "text": [
      "The sum of the fractions is: 20/16\n"
     ]
    }
   ],
   "source": [
    "\n",
    "# Function to calculate the sum of two fractions\n",
    "def sum_fractions(numerator1, denominator1, numerator2, denominator2):\n",
    "    # Calculate the common denominator\n",
    "    common_denominator = denominator1 * denominator2\n",
    "    # Calculate the new numerators\n",
    "    new_numerator1 = numerator1 * denominator2\n",
    "    new_numerator2 = numerator2 * denominator1\n",
    "    # Calculate the sum of the fractions\n",
    "    result_numerator = new_numerator1 + new_numerator2\n",
    "    return result_numerator, common_denominator\n",
    "\n",
    "# Input from the user\n",
    "numerator1 = int(input(\"Enter the numerator of the first fraction: \"))\n",
    "denominator1 = int(input(\"Enter the denominator of the first fraction: \"))\n",
    "numerator2 = int(input(\"Enter the numerator of the second fraction: \"))\n",
    "denominator2 = int(input(\"Enter the denominator of the second fraction: \"))\n",
    "\n",
    "# Calculate the sum\n",
    "result = sum_fractions(numerator1, denominator1, numerator2, denominator2)\n",
    "\n",
    "# Output the result\n",
    "print(f\"The sum of the fractions is: {result[0]}/{result[1]}\")\n"
   ]
  },
  {
   "cell_type": "code",
   "execution_count": null,
   "metadata": {},
   "outputs": [],
   "source": []
  },
  {
   "cell_type": "code",
   "execution_count": 26,
   "metadata": {},
   "outputs": [
    {
     "name": "stdout",
     "output_type": "stream",
     "text": [
      "volume of milk tank == 8000.0,\n",
      " volume of glass == 9.42,\n",
      "number of glesses can be obtained is == 849\n"
     ]
    }
   ],
   "source": [
    "#  Q10:- Given the height, width and breadth of a milk tank, \n",
    "# you have to find out how many glasses of milk can be obtained?\n",
    "#  Assume all the inputs are provided by the user.\n",
    "\n",
    "# Input:\n",
    "# Dimensions of the milk tank\n",
    "# H = 20cm, L = 20cm, B = 20cm   #  V = l × b × h # volume \n",
    "\n",
    "# Dimensions of the glass\n",
    "# h = 3cm, r = 1cm       # Volume = πr2h     # volume  = pie*r**2*h\n",
    "\n",
    "hm = float(input('enter the height of milk tank in cm'))\n",
    "lm = float(input('enter the length of milk tank in cm'))\n",
    "bm = float(input('enter the breath of milk tank in cm'))\n",
    "\n",
    "hg = float(input('enter the height of milk glass in cm'))\n",
    "rg = float(input('enter the radius of milk glass in cm'))\n",
    "pi=3.14\n",
    "\n",
    "tank_vol = hm*lm*bm\n",
    "glass_vol = pi*(rg**2)*hg\n",
    "\n",
    "obtained = tank_vol/glass_vol\n",
    "\n",
    "print(f'volume of milk tank == {tank_vol},\\n volume of glass == {glass_vol},\\n  number of glesses can be obtained is == {int(obtained)}')"
   ]
  },
  {
   "cell_type": "code",
   "execution_count": null,
   "metadata": {},
   "outputs": [],
   "source": []
  }
 ],
 "metadata": {
  "kernelspec": {
   "display_name": "Python 3",
   "language": "python",
   "name": "python3"
  },
  "language_info": {
   "codemirror_mode": {
    "name": "ipython",
    "version": 3
   },
   "file_extension": ".py",
   "mimetype": "text/x-python",
   "name": "python",
   "nbconvert_exporter": "python",
   "pygments_lexer": "ipython3",
   "version": "3.11.4"
  }
 },
 "nbformat": 4,
 "nbformat_minor": 2
}
