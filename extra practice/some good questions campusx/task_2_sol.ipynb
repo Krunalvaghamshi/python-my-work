{
 "cells": [
  {
   "cell_type": "code",
   "execution_count": 13,
   "metadata": {},
   "outputs": [
    {
     "name": "stdout",
     "output_type": "stream",
     "text": [
      "HRA=972000.0,DA==923400.0,PF==895698.0\n",
      "income comes in hand after yearly tax deduction is == 716558.4\n",
      "what comes in hand after deduction of taxes is == 59713.200000000004\n"
     ]
    }
   ],
   "source": [
    "#  Problem 1: Write a program that will give you in hand monthly salary \n",
    "# after deduction on CTC - HRA(10%), DA(5%), PF(3%) and taxes deduction as below:\n",
    "\n",
    "# Salary(Lakhs) : Tax(%)\n",
    "#Below 5 : 0%    # 5-10 : 10%  # 10-20 : 20%  #  aboove 20 : 30%\n",
    "\n",
    "incom = float(input('enter the salary of the month == '))\n",
    "\n",
    "income = incom*12\n",
    "\n",
    "hra = income-(income*0.10)\n",
    "da = hra- (hra*0.05)\n",
    "pf = da-(da*0.03)\n",
    "# deduct = pf \n",
    "print(f'HRA={hra},DA=={da},PF=={pf}')\n",
    "\n",
    "if income<=500000:\n",
    "    tax = 0\n",
    "    # print(tax)\n",
    "    deduction = pf-tax\n",
    "    # print(deduction)\n",
    "elif income > 500000 and income <= 1000000 :\n",
    "    # tax = income*0.10\n",
    "    # tax = pf*0.10\n",
    "    deduction = pf-(pf*0.10)\n",
    "    # print(deduction)\n",
    "elif income > 1000000 and income <= 2000000 :\n",
    "    # tax = income*0.20\n",
    "    # tax = pf*0.20\n",
    "    deduction = pf-(pf*0.20)\n",
    "    # print(deduction)    \n",
    "elif income > 2000000 :\n",
    "    # tax = income*0.30\n",
    "    # tax = pf*0.30\n",
    "    deduction = pf-(pf*0.30)\n",
    "    # print(deduction)    \n",
    "\n",
    "print(f'income comes in hand after yearly tax deduction is == {deduction}')\n",
    "print(f'what comes in hand after deduction of taxes is == {(deduction/12)}')"
   ]
  },
  {
   "cell_type": "code",
   "execution_count": 16,
   "metadata": {},
   "outputs": [
    {
     "name": "stdout",
     "output_type": "stream",
     "text": [
      "it is no profit no loss 0.0 ...\n"
     ]
    }
   ],
   "source": [
    "#  Problem 3: Write a program that will take user input of cost price and selling price\n",
    "#  and determines whether its a loss or a profit.\n",
    "\n",
    "cp = float(input('enter the cost price == '))\n",
    "sp = float(input('enter the selling price == '))\n",
    "\n",
    "pnl=sp-cp\n",
    "\n",
    "if pnl > 0 :\n",
    "    \n",
    "    # print(\"number is positive ......\")\n",
    "    print(f\"it is profit of {pnl} ...\")\n",
    "\n",
    "elif pnl == 0 :\n",
    "    # print(\"number is neutral ......\")\n",
    "    print(f\"it is no profit no loss {pnl} ...\")\n",
    "\n",
    "elif pnl < 0 :\n",
    "    #   print(\"number is negative ......\")\n",
    "      print(f\"it is loss of {pnl} ...\")"
   ]
  },
  {
   "cell_type": "code",
   "execution_count": 22,
   "metadata": {},
   "outputs": [
    {
     "name": "stdout",
     "output_type": "stream",
     "text": [
      "\n",
      " 1. cm to ft \n",
      " 2. km to miles \n",
      " 3. USD to INR \n",
      " 4. exit\n",
      "\n",
      "you have been exited from the menu drive \n",
      " == thank you ....\n"
     ]
    }
   ],
   "source": [
    "#  `Problem 4`: Write a menu-driven program - \n",
    "# 1. cm to ft \n",
    "# 2. km to miles \n",
    "# 3. USD to INR \n",
    "# 4. exit\n",
    "\n",
    "print('''\n",
    " 1. cm to ft \n",
    " 2. km to miles \n",
    " 3. USD to INR \n",
    " 4. exit\n",
    "''')\n",
    "\n",
    "choose = int(input('choose an number from above option == '))\n",
    "\n",
    "if choose >= 1 and choose <= 4:\n",
    "    if choose == 1:\n",
    "        cm = float(input('enter centimeter to convert it into feet == '))\n",
    "        ft = cm*0.0328084\n",
    "        print(f'ft=={ft}')\n",
    "    elif choose == 2:\n",
    "        km = float(input('enter kilometer to convert it into miles == '))  \n",
    "        convert = km * 0.62137119\n",
    "        print(f\"kilometers ={km} is converted into miles = {convert}\")\n",
    "    elif choose == 3:\n",
    "        usd = float(input('enter USD to convert it into INR == ')) \n",
    "        convert = usd * 83.61\n",
    "        print(f\"USd ={usd} is converted into INR = {convert}\")\n",
    "    elif choose == 4:\n",
    "         print('you have been exited from the menu drive \\n == thank you ....')\n",
    "\n",
    "else:\n",
    "    print(\"enter an valid number from 1 to 4 ....\")"
   ]
  },
  {
   "cell_type": "code",
   "execution_count": 24,
   "metadata": {},
   "outputs": [
    {
     "name": "stdout",
     "output_type": "stream",
     "text": [
      "fibonnacci series == \n",
      "0\n",
      "1\n",
      "1\n",
      "2\n",
      "3\n",
      "5\n",
      "8\n",
      "13\n",
      "21\n",
      "34\n"
     ]
    }
   ],
   "source": [
    "#  Problem 5 - Exercise 12: Display Fibonacci series up to 10 terms.\n",
    "\n",
    "n = int(input(\"enter number for fabonacci saries = \"))\n",
    "\n",
    "t1 = 0\n",
    "t2 = 1\n",
    "count = 0 \n",
    "print('fibonacci series == ')\n",
    "\n",
    "while count < n :\n",
    "    print(t1)\n",
    "    fs = t1 + t2 \n",
    "\n",
    "    t1 = t2 \n",
    "    t2 = fs \n",
    "\n",
    "    count +=1"
   ]
  },
  {
   "cell_type": "code",
   "execution_count": 25,
   "metadata": {},
   "outputs": [
    {
     "name": "stdout",
     "output_type": "stream",
     "text": [
      "the factorial of 5 is 120\n"
     ]
    }
   ],
   "source": [
    "# Problem 6 - Find the factorial of a given number.\n",
    "\n",
    "n = int(input(\"enter number for factorial = \"))\n",
    "\n",
    "factorial = 1 \n",
    "\n",
    "for i in range(1,n+1,1):\n",
    "        factorial = factorial*i\n",
    "print(f\"the factorial of {n} is {factorial}\") "
   ]
  },
  {
   "cell_type": "code",
   "execution_count": 30,
   "metadata": {},
   "outputs": [
    {
     "name": "stdout",
     "output_type": "stream",
     "text": [
      "original ==  345678\n",
      "reversed ==  876543\n"
     ]
    }
   ],
   "source": [
    "#  Problem 7 - Reverse a given integer number.\n",
    "# Example: Input:  == 76542\n",
    "# Output: == 24567\n",
    "\n",
    "inte = int(input('enter some numbers == '))\n",
    "\n",
    "rev=int(str(inte)[::-1])\n",
    "print('original == ',inte)\n",
    "print('reversed == ',rev)"
   ]
  },
  {
   "cell_type": "code",
   "execution_count": null,
   "metadata": {},
   "outputs": [],
   "source": [
    "#  Problem 8: Take a user input as integer N. Find out the sum from 1 to N. If any number if divisible by 5,\n",
    "#  then skip that number. And if the sum is greater than 300, don't need to calculate the sum further more.\n",
    "#  Print the final result. And don't use for loop to solve this problem.\n",
    "# Input: 30\n",
    "# Output: 276\n",
    "\n"
   ]
  }
 ],
 "metadata": {
  "kernelspec": {
   "display_name": "Python 3",
   "language": "python",
   "name": "python3"
  },
  "language_info": {
   "codemirror_mode": {
    "name": "ipython",
    "version": 3
   },
   "file_extension": ".py",
   "mimetype": "text/x-python",
   "name": "python",
   "nbconvert_exporter": "python",
   "pygments_lexer": "ipython3",
   "version": "3.11.4"
  }
 },
 "nbformat": 4,
 "nbformat_minor": 2
}
