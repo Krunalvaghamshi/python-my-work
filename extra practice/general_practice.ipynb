{
 "cells": [
  {
   "cell_type": "code",
   "execution_count": 3,
   "metadata": {},
   "outputs": [
    {
     "name": "stdout",
     "output_type": "stream",
     "text": [
      "Krunal@333 == password is valid ......\n"
     ]
    }
   ],
   "source": [
    "\"\"\"13. Python Program to check the validity of password input by users.\n",
    "Validation :\n",
    "a. At least 1 letter between [a-z] and 1 letter between [A-Z].\n",
    "b. At least 1 number between [0-9].\n",
    "c. At least 1 character from [$#@].\n",
    "d. Minimum length 6 characters.\n",
    "e. Maximum length 16 characters.\"\"\"\n",
    "\n",
    "password = input('enter an password  == ')\n",
    "\n",
    "le = len(password)\n",
    "\n",
    "if le >= 6 :\n",
    "\n",
    "    lower_case = 0\n",
    "    upper_case = 0\n",
    "    digits = 0\n",
    "    character = 0\n",
    "     \n",
    "    for char in password :\n",
    "        #   print('pssss')\n",
    "       if char.islower() :\n",
    "            lower_case += 1\n",
    "       elif char.isupper():\n",
    "           upper_case += 1\n",
    "       elif char.isdigit() :\n",
    "           digits += 1\n",
    "       elif char in '$#@':\n",
    "           character += 1 \n",
    "\n",
    "    if  lower_case and upper_case and digits and character :\n",
    "            print(f'{password } == password is valid ......')\n",
    "    else :\n",
    "            print(f'{password } == enter an valid passord again ')\n",
    "\n",
    "else :\n",
    "    print('fill atlest 6 characters ')\n",
    "\n",
    "\n",
    "# if upper_case and lower_case and digits and character == True :     #== this if else condition will come in loop of counting character\n",
    "#          print(f'{password } == password is valid ......')\n",
    "# else :\n",
    "#          print(f'{password } == enter an valid passord again ')     "
   ]
  },
  {
   "cell_type": "code",
   "execution_count": 18,
   "metadata": {},
   "outputs": [
    {
     "name": "stdout",
     "output_type": "stream",
     "text": [
      "list of months ==  january, february, march, april, may, june, july, august, september, october, november, december\n",
      "month's name ==  june\n",
      "no. of days in june == 30\n"
     ]
    }
   ],
   "source": [
    "\"\"\"15. Python Program to convert month name to a number of days.\n",
    "Expected Output:\n",
    "List of months: January, February, March, April, May, June, July, August, September, October, November, December\n",
    "Input the name of Month: February\n",
    "No. of days: 28/29 days\"\"\"\n",
    "\n",
    "months = {\n",
    "          'january' : 31 ,\n",
    "          'february' : '28/29' ,\n",
    "          'march' : 31 ,\n",
    "          'april' : 30 ,\n",
    "          'may' : 31 ,\n",
    "          'june' : 30 ,\n",
    "          'july' : 31 ,\n",
    "          'august' : 31 ,\n",
    "          'september' : 30 ,\n",
    "          'october' : 31 ,\n",
    "          'november' : 30 ,\n",
    "          'december' : 31\n",
    "          }\n",
    "\n",
    "# print(months.keys())\n",
    "\n",
    "print('list of months == ',', '.join(months.keys()))\n",
    "\n",
    "month_name = input('enter month name to know days of months == ')\n",
    "\n",
    "print(\"month's name == \",month_name )\n",
    "\n",
    "# print(f'no. of days in {month_name} == ',months.values(month_name))     #== is not working \n",
    "\n",
    "# print(months.values(months[month_name]))            #== is not working \n",
    "\n",
    "if month_name in months :\n",
    "    print(f'no. of days in {month_name} == {months[month_name]}')\n",
    "else :\n",
    "    print('enter an valid month name ...')\n",
    "\n",
    "# OR can be comprehensed in sort so line of code gets smaller \n",
    "\n",
    "# print(f'no. of days in {month_name} == {months[month_name]}') if month_name in months else  print('enter an valid month name ...')\n"
   ]
  },
  {
   "cell_type": "code",
   "execution_count": 19,
   "metadata": {},
   "outputs": [
    {
     "name": "stdout",
     "output_type": "stream",
     "text": [
      "Taurus\n"
     ]
    }
   ],
   "source": [
    "\"\"\"16. Python Program to display astrological sign for given date of birth.\n",
    "Expected Output:\n",
    "Input birthday: 15\n",
    "Input month of birth (e.g. march, july etc): may\n",
    "Your Astrological sign is : Taurus\"\"\"\n",
    "\n",
    "# Python program to display astrological sign \n",
    "# or Zodiac sign for given date of birth \n",
    "\n",
    "def zodiac_sign(day, month): \n",
    "\t\n",
    "\t# checks month and date within the valid range \n",
    "\t# of a specified zodiac \n",
    "\tif month == 'december': \n",
    "\t\tastro_sign = 'Sagittarius' if (day < 22) else 'capricorn'\n",
    "\t\t\n",
    "\telif month == 'january': \n",
    "\t\tastro_sign = 'Capricorn' if (day < 20) else 'aquarius'\n",
    "\t\t\n",
    "\telif month == 'february': \n",
    "\t\tastro_sign = 'Aquarius' if (day < 19) else 'pisces'\n",
    "\t\t\n",
    "\telif month == 'march': \n",
    "\t\tastro_sign = 'Pisces' if (day < 21) else 'aries'\n",
    "\t\t\n",
    "\telif month == 'april': \n",
    "\t\tastro_sign = 'Aries' if (day < 20) else 'taurus'\n",
    "\t\t\n",
    "\telif month == 'may': \n",
    "\t\tastro_sign = 'Taurus' if (day < 21) else 'gemini'\n",
    "\t\t\n",
    "\telif month == 'june': \n",
    "\t\tastro_sign = 'Gemini' if (day < 21) else 'cancer'\n",
    "\t\t\n",
    "\telif month == 'july': \n",
    "\t\tastro_sign = 'Cancer' if (day < 23) else 'leo'\n",
    "\t\t\n",
    "\telif month == 'august': \n",
    "\t\tastro_sign = 'Leo' if (day < 23) else 'virgo'\n",
    "\t\t\n",
    "\telif month == 'september': \n",
    "\t\tastro_sign = 'Virgo' if (day < 23) else 'libra'\n",
    "\t\t\n",
    "\telif month == 'october': \n",
    "\t\tastro_sign = 'Libra' if (day < 23) else 'scorpio'\n",
    "\t\t\n",
    "\telif month == 'november': \n",
    "\t\tastro_sign = 'scorpio' if (day < 22) else 'sagittarius'\n",
    "\t\t\n",
    "\tprint(astro_sign) \n",
    "\t\n",
    "# Driver code \n",
    "if __name__ == '__main__': \n",
    "\tday = 19\n",
    "\tmonth = \"may\"\n",
    "\tzodiac_sign(day, month) \n"
   ]
  },
  {
   "cell_type": "code",
   "execution_count": 3,
   "metadata": {},
   "outputs": [
    {
     "name": "stdout",
     "output_type": "stream",
     "text": [
      "day of month == 28\n",
      "month is == december\n",
      "astrological sign ==  capricorn\n"
     ]
    }
   ],
   "source": [
    "\n",
    "day = int(input('enter the day of month == '))\n",
    "month = input('enter month == ')\n",
    "\n",
    "\n",
    "\n",
    "if month == 'december': \n",
    "\tastro_sign = 'Sagittarius' if (day < 22) else 'capricorn'\n",
    "\t\t\n",
    "elif month == 'january': \n",
    "\tastro_sign = 'Capricorn' if (day < 20) else 'aquarius'\n",
    "\t\t\n",
    "elif month == 'february': \n",
    "\tastro_sign = 'Aquarius' if (day < 19) else 'pisces'\n",
    "\t\t\n",
    "elif month == 'march': \n",
    "\tastro_sign = 'Pisces' if (day < 21) else 'aries'\n",
    "\t\t\n",
    "elif month == 'april': \n",
    "\tastro_sign = 'Aries' if (day < 20) else 'taurus'\n",
    "\t\t\n",
    "elif month == 'may': \n",
    "\tastro_sign = 'Taurus' if (day < 21) else 'gemini'\n",
    "\t\t\n",
    "elif month == 'june': \n",
    "\tastro_sign = 'Gemini' if (day < 21) else 'cancer'\n",
    "\t\t\n",
    "elif month == 'july': \n",
    "\tastro_sign = 'Cancer' if (day < 23) else 'leo'\n",
    "\t\t\n",
    "elif month == 'august': \n",
    "\tastro_sign = 'Leo' if (day < 23) else 'virgo'\n",
    "\t\t\n",
    "elif month == 'september': \n",
    "\tastro_sign = 'Virgo' if (day < 23) else 'libra'\n",
    "\t\t\n",
    "elif month == 'october': \n",
    "\tastro_sign = 'Libra' if (day < 23) else 'scorpio'\n",
    "\t\t\n",
    "elif month == 'november': \n",
    "\tastro_sign = 'scorpio' if (day < 22) else 'sagittarius'\n",
    "\n",
    "print(f'day of month == {day}\\nmonth is == {month}')\t\t\n",
    "print('astrological sign == ',astro_sign)"
   ]
  },
  {
   "cell_type": "code",
   "execution_count": 27,
   "metadata": {},
   "outputs": [
    {
     "name": "stdout",
     "output_type": "stream",
     "text": [
      "[1505, 1540, 1575, 1610, 1645, 1680, 1715, 1750, 1785, 1820, 1855, 1890, 1925, 1960, 1995, 2030, 2065, 2100, 2135, 2170, 2205, 2240, 2275, 2310, 2345, 2380, 2415, 2450, 2485, 2520, 2555, 2590, 2625, 2660, 2695]\n",
      "[1505, 1540, 1575, 1610, 1645, 1680, 1715, 1750, 1785, 1820, 1855, 1890, 1925, 1960, 1995, 2030, 2065, 2100, 2135, 2170, 2205, 2240, 2275, 2310, 2345, 2380, 2415, 2450, 2485, 2520, 2555, 2590, 2625, 2660, 2695]\n"
     ]
    }
   ],
   "source": [
    "#  9. Python Program to find those numbers which are divisible by 7 and multiple of 5, between 1500 and 2700 (both included).\n",
    "\n",
    "n = []\n",
    "for i in range(1500, 2701):\n",
    "    if i % 7 == 0 and i % 5 == 0:\n",
    "        n.append(i)\n",
    "print(n)\n",
    "\n",
    "#  can be also comprehensed like below code \n",
    "#  OR \n",
    "\n",
    "n = [i for i in range (1500,2701) if i % 7 == 0 and i % 5 == 0 ]\n",
    "print(n)"
   ]
  },
  {
   "cell_type": "code",
   "execution_count": 1,
   "metadata": {},
   "outputs": [
    {
     "data": {
      "text/plain": [
       "'1  B  3  D  5\\n    F  7  H  9\\n        J  11  L\\n            13 N\\n                15\\n\\n\\n\\n1\\n2 9\\n3 8 12\\n4 7 11 14\\n5 6 10 13 15\\n\\n\\ndifference between reverse and reversed in python'"
      ]
     },
     "execution_count": 1,
     "metadata": {},
     "output_type": "execute_result"
    }
   ],
   "source": [
    "'''\n",
    "    1  B  3  D  5\n",
    "       F  7  H  9\n",
    "         J  11  L\n",
    "             13 N\n",
    "                15\n",
    "\n",
    "\n",
    "\n",
    "1\n",
    "2 9\n",
    "3 8 12\n",
    "4 7 11 14\n",
    "5 6 10 13 15\n",
    "\n",
    "\n",
    "difference between reverse and reversed in python'''"
   ]
  },
  {
   "cell_type": "code",
   "execution_count": 6,
   "metadata": {},
   "outputs": [
    {
     "name": "stdout",
     "output_type": "stream",
     "text": [
      "employee id == 3366\n",
      "employee name ==  python \n",
      "employee age == 63\n",
      "employee role ==  ceo \n"
     ]
    }
   ],
   "source": [
    "# OOP general practice ...\n",
    "\n",
    "'''Write a Program to create an Employee Record System using the Class & Object of\n",
    "any 5 employees. Consider the below-mentioned attributes in the Employee class:\n",
    "- emp_id\n",
    "- emp_name\n",
    "- emp_age\n",
    "- emp_role'''\n",
    "\n",
    "class employee_rcd:\n",
    "    emp_id = None\n",
    "    emp_name = None\n",
    "    emp_age = None\n",
    "    emp_role = None\n",
    "\n",
    "employee = employee_rcd()\n",
    "\n",
    "employee.emp_id = 3366\n",
    "employee.emp_name = ' python ' \n",
    "employee.emp_age = 63\n",
    "employee.emp_role = ' ceo '\n",
    "\n",
    "print(f'employee id == {employee.emp_id}\\n\\\n",
    "employee name == {employee.emp_name}\\n\\\n",
    "employee age == {employee.emp_age}\\n\\\n",
    "employee role == {employee.emp_role}')\n"
   ]
  },
  {
   "cell_type": "code",
   "execution_count": 4,
   "metadata": {},
   "outputs": [
    {
     "name": "stdout",
     "output_type": "stream",
     "text": [
      "3636  tata   black \n"
     ]
    }
   ],
   "source": [
    "'''Write a Program to create a Car Record System using the Class & Object of any 4\n",
    "Cars. Consider the below-mentioned attributes in the Car class:\n",
    "- car_id\n",
    "- car_company_name\n",
    "- car_color'''\n",
    "\n",
    "class car :\n",
    "    car_id = None\n",
    "    car_company_name = None\n",
    "    car_color = None\n",
    "\n",
    "    def car_rcd(self):\n",
    "        self.car_id = 3636\n",
    "        self.car_company_name = ' tata '\n",
    "        self.car_color = ' black '\n",
    "        \n",
    "        print( self.car_id , self.car_company_name , self.car_color)\n",
    "\n",
    "    # def getter(self):\n",
    "    #    print( self.car_id , self.car_company_name , self.car_color)\n",
    " \n",
    "    \n",
    "\n",
    "c1 = car()\n",
    "\n",
    "c1.car_rcd ()\n",
    "# c1.getter()\n"
   ]
  },
  {
   "cell_type": "code",
   "execution_count": 9,
   "metadata": {},
   "outputs": [
    {
     "name": "stdout",
     "output_type": "stream",
     "text": [
      "33 tatta red\n",
      "44 rr blue\n",
      "888 bmw white\n"
     ]
    }
   ],
   "source": [
    "class car :\n",
    "    car_id = None\n",
    "    car_company_name = None\n",
    "    car_color = None\n",
    "\n",
    "    def car_rcd(self):\n",
    "        self.car_id = int(input('enter car id == '))\n",
    "        self.car_company_name = input('enter car company name == ')\n",
    "        self.car_color = input('enter car colour == ')\n",
    "        \n",
    "        print( self.car_id , self.car_company_name , self.car_color)\n",
    "\n",
    "\n",
    "\n",
    "car_data = []\n",
    "\n",
    "\n",
    "number = int(input(\"How Many Student ?\"))\n",
    "\n",
    "# print(car_data)  # 1\n",
    "\n",
    "for object in range(number):\n",
    "    car_data.append(car())\n",
    "\n",
    "\n",
    "# print(car_data) # 2\n",
    "\n",
    "\n",
    "for i in range(number):\n",
    "    car_data[i].car_rcd()\n",
    "    # student_data[i].get()"
   ]
  },
  {
   "cell_type": "code",
   "execution_count": 11,
   "metadata": {},
   "outputs": [
    {
     "name": "stdout",
     "output_type": "stream",
     "text": [
      "student id == 1\n",
      " student name == a\n",
      " student age == 1\n",
      "student id == 2\n",
      " student name == b\n",
      " student age == 2\n",
      "student id == 3\n",
      " student name == c\n",
      " student age == 3\n"
     ]
    }
   ],
   "source": [
    "'''Write a Program to create a Student Record System for 5 students using Encapsulation.\n",
    "Consider the below-mentioned attributes in the Student class:\n",
    "- stu_id\n",
    "- stu_name\n",
    "- stu_age   '''\n",
    "\n",
    "class student :\n",
    "    stu_id = None\n",
    "    stu_name = None\n",
    "    stu_age = None\n",
    "    \n",
    "    def setter(self):\n",
    "        self.stu_id = int(input('enter student id == '))\n",
    "        self.stu_name = input('enter name == ')\n",
    "        self.stu_age =  int(input('enter student age == '))\n",
    "\n",
    "    def getter(self):\n",
    "        print(f' student id == {self.stu_id}\\n student name == {self.stu_name}\\n student age == {self.stu_age}')    \n",
    "\n",
    "\n",
    "student_data = []\n",
    "\n",
    "n = int(input('how many time ? '))\n",
    "\n",
    "for object in range(n) :\n",
    "    student_data.append(student())\n",
    "\n",
    "for i in range (n):\n",
    "    student_data[i].setter()\n",
    "\n",
    "for i in range (n):\n",
    "    student_data[i].getter()\n",
    "    \n"
   ]
  },
  {
   "cell_type": "code",
   "execution_count": 22,
   "metadata": {},
   "outputs": [
    {
     "name": "stdout",
     "output_type": "stream",
     "text": [
      "sum of all numbers cube is ==  36\n",
      "sum of numbers ==  6\n"
     ]
    }
   ],
   "source": [
    "'''Write a Program to find the sum of all three number’s cubes by implementing\n",
    "single-level inheritance: Class X->Class Y\n",
    "- Class X has the following members: a, b & c attributes in integer data type\n",
    "- Class Y has the following members: setData() and getData() methods   '''\n",
    "\n",
    "class X:\n",
    "\n",
    "    a = None\n",
    "    b = None\n",
    "    c = None\n",
    "    sum = None\n",
    "    sums = None\n",
    "\n",
    "class Y(X):\n",
    "    # sum = None\n",
    "    # sums = None\n",
    "    # def __init__(self) -> None:\n",
    "    #     super().__init__()\n",
    "        \n",
    "    def Setdata(self):\n",
    "        self.a = int(input('enter number == '))\n",
    "        self.b = int(input('enter number == '))\n",
    "        self.c = int(input('enter number == '))\n",
    "        # sum = None  \n",
    "        self.sum = self.a**3 + self.b**3 + self.c**3\n",
    "        # sums = X.a+X.b+X.c   # not working \n",
    "        #print(sum)\n",
    "        self.sums = self.a+self.b+self.c\n",
    "        #print(sums)\n",
    "\n",
    "        # return 0\n",
    "    \n",
    "    def Getdata(self):\n",
    "        # print(X.a)  \n",
    "        # print(Y.a)      # not working \n",
    "        # print(self.a)      # not working  # is now working because of adding self. in above (a)\n",
    "        print('sum of all numbers cube is == ',self.sum) # not working \n",
    "        print('sum of numbers == ', self.sums)\n",
    "s1 = Y()\n",
    "\n",
    "s1.Setdata()\n",
    "s1.Getdata()\n",
    "# print(s1.sum)    # not working \n"
   ]
  },
  {
   "cell_type": "code",
   "execution_count": 15,
   "metadata": {},
   "outputs": [
    {
     "ename": "TypeError",
     "evalue": "unsupported operand type(s) for ** or pow(): 'NoneType' and 'int'",
     "output_type": "error",
     "traceback": [
      "\u001b[1;31m---------------------------------------------------------------------------\u001b[0m",
      "\u001b[1;31mTypeError\u001b[0m                                 Traceback (most recent call last)",
      "Cell \u001b[1;32mIn[15], line 41\u001b[0m\n\u001b[0;32m     37\u001b[0m         \u001b[38;5;28mprint\u001b[39m(\u001b[38;5;124m'\u001b[39m\u001b[38;5;124msum of all numbers cube is == \u001b[39m\u001b[38;5;124m'\u001b[39m,\u001b[38;5;28mself\u001b[39m\u001b[38;5;241m.\u001b[39msum, \u001b[38;5;28mself\u001b[39m\u001b[38;5;241m.\u001b[39msums) \u001b[38;5;66;03m# not working \u001b[39;00m\n\u001b[0;32m     39\u001b[0m s1 \u001b[38;5;241m=\u001b[39m Y()\n\u001b[1;32m---> 41\u001b[0m \u001b[43ms1\u001b[49m\u001b[38;5;241;43m.\u001b[39;49m\u001b[43mSetdata\u001b[49m\u001b[43m(\u001b[49m\u001b[43m)\u001b[49m\n\u001b[0;32m     42\u001b[0m s1\u001b[38;5;241m.\u001b[39mGetdata()\n\u001b[0;32m     43\u001b[0m \u001b[38;5;66;03m# print(s1.sum)    # not working \u001b[39;00m\n",
      "Cell \u001b[1;32mIn[15], line 25\u001b[0m, in \u001b[0;36mY.Setdata\u001b[1;34m(self)\u001b[0m\n\u001b[0;32m     23\u001b[0m c \u001b[38;5;241m=\u001b[39m \u001b[38;5;28mint\u001b[39m(\u001b[38;5;28minput\u001b[39m(\u001b[38;5;124m'\u001b[39m\u001b[38;5;124menter number == \u001b[39m\u001b[38;5;124m'\u001b[39m))\n\u001b[0;32m     24\u001b[0m \u001b[38;5;28msum\u001b[39m \u001b[38;5;241m=\u001b[39m \u001b[38;5;28;01mNone\u001b[39;00m  \n\u001b[1;32m---> 25\u001b[0m \u001b[38;5;28mself\u001b[39m\u001b[38;5;241m.\u001b[39msum \u001b[38;5;241m=\u001b[39m \u001b[38;5;28;43mself\u001b[39;49m\u001b[38;5;241;43m.\u001b[39;49m\u001b[43ma\u001b[49m\u001b[38;5;241;43m*\u001b[39;49m\u001b[38;5;241;43m*\u001b[39;49m\u001b[38;5;241;43m3\u001b[39;49m \u001b[38;5;241m+\u001b[39m \u001b[38;5;28mself\u001b[39m\u001b[38;5;241m.\u001b[39mb\u001b[38;5;241m*\u001b[39m\u001b[38;5;241m*\u001b[39m\u001b[38;5;241m3\u001b[39m \u001b[38;5;241m+\u001b[39m \u001b[38;5;28mself\u001b[39m\u001b[38;5;241m.\u001b[39mc\u001b[38;5;241m*\u001b[39m\u001b[38;5;241m*\u001b[39m\u001b[38;5;241m3\u001b[39m\n\u001b[0;32m     26\u001b[0m \u001b[38;5;66;03m# sums = X.a+X.b+X.c   # not working \u001b[39;00m\n\u001b[0;32m     27\u001b[0m \u001b[38;5;66;03m#print(sum)\u001b[39;00m\n\u001b[0;32m     28\u001b[0m \u001b[38;5;28mself\u001b[39m\u001b[38;5;241m.\u001b[39msums \u001b[38;5;241m=\u001b[39m a\u001b[38;5;241m+\u001b[39mb\u001b[38;5;241m+\u001b[39mc\n",
      "\u001b[1;31mTypeError\u001b[0m: unsupported operand type(s) for ** or pow(): 'NoneType' and 'int'"
     ]
    }
   ],
   "source": [
    "'''Write a Program to find the sum of all three number’s cubes by implementing\n",
    "single-level inheritance: Class X->Class Y\n",
    "- Class X has the following members: a, b & c attributes in integer data type\n",
    "- Class Y has the following members: setData() and getData() methods   '''\n",
    "\n",
    "class X:\n",
    "\n",
    "    a = None\n",
    "    b = None\n",
    "    c = None\n",
    "    sum = None\n",
    "    sums = None\n",
    "\n",
    "class Y(X):\n",
    "    # sum = None\n",
    "    # sums = None\n",
    "    # def __init__(self) -> None:\n",
    "    #     super().__init__()\n",
    "        \n",
    "    def Setdata(self):\n",
    "        a = int(input('enter number == '))\n",
    "        b = int(input('enter number == '))\n",
    "        c = int(input('enter number == '))\n",
    "        sum = None  \n",
    "        self.sum = self.a**3 + self.b**3 + self.c**3\n",
    "        # sums = X.a+X.b+X.c   # not working \n",
    "        #print(sum)\n",
    "        self.sums = a+b+c\n",
    "        #print(sums)\n",
    "\n",
    "        # return 0\n",
    "    \n",
    "    def Getdata(self):\n",
    "        print(X.a)  \n",
    "        print(Y.a)      # not working \n",
    "        print(self.a)      # not working \n",
    "        print('sum of all numbers cube is == ',self.sum, self.sums) # not working \n",
    "\n",
    "s1 = Y()\n",
    "\n",
    "s1.Setdata()\n",
    "s1.Getdata()\n",
    "# print(s1.sum)    # not working \n"
   ]
  },
  {
   "cell_type": "code",
   "execution_count": 5,
   "metadata": {},
   "outputs": [
    {
     "name": "stdout",
     "output_type": "stream",
     "text": [
      "The sum of the cubes is: 36\n"
     ]
    }
   ],
   "source": [
    "# Sum of Cubes using Single-Level Inheritance\n",
    "\n",
    "class X:\n",
    "    def __init__(self, a, b, c):\n",
    "        self.a = a\n",
    "        self.b = b\n",
    "        self.c = c\n",
    "\n",
    "class Y(X):\n",
    "    def setData(self, a, b, c):\n",
    "        self.a = a\n",
    "        self.b = b\n",
    "        self.c = c\n",
    "\n",
    "    def getData(self):\n",
    "        return self.a**3 + self.b**3 + self.c**3\n",
    "\n",
    "# Example usage\n",
    "y = Y(1, 2, 3)\n",
    "# y.setData(1, 2, 3)\n",
    "result = y.getData()\n",
    "print(\"The sum of the cubes is:\", result)"
   ]
  },
  {
   "cell_type": "code",
   "execution_count": 23,
   "metadata": {},
   "outputs": [
    {
     "name": "stdout",
     "output_type": "stream",
     "text": [
      "6\n",
      "sum of all numbers cube is ==  36 6\n"
     ]
    }
   ],
   "source": [
    "'''Write a Program to find the sum of all three number’s cubes by implementing\n",
    "single-level inheritance: Class X->Class Y\n",
    "- Class X has the following members: a, b & c attributes in integer data type\n",
    "- Class Y has the following members: setData() and getData() methods   '''\n",
    "\n",
    "class X:\n",
    "\n",
    "    a = 1\n",
    "    b = 2\n",
    "    c = 3\n",
    " \n",
    " \n",
    "class Y(X):\n",
    "        \n",
    "    def Setdata(self):\n",
    "         \n",
    "        self.sum = self.a**3 + self.b**3 + self.c**3\n",
    "        sums = X.a+X.b+X.c   # not working  # is now working \n",
    "        self.sums = self.a+self.b+self.c\n",
    "        print(self.sums)\n",
    "    \n",
    "    def Getdata(self):\n",
    "        \n",
    "        print('sum of all numbers cube is == ',self.sum, self.sums) # not working \n",
    "\n",
    "s1 = Y()\n",
    "\n",
    "\n",
    "s1.Setdata()\n",
    "s1.Getdata()\n",
    "# print(s1.sum)    # not working \n"
   ]
  },
  {
   "cell_type": "code",
   "execution_count": 2,
   "metadata": {},
   "outputs": [
    {
     "name": "stdout",
     "output_type": "stream",
     "text": [
      "celsius ==  66.333\n",
      "converted into fehrenheit ==  151.3994\n",
      "converted into kelvin ==  339.48299999999995\n"
     ]
    }
   ],
   "source": [
    "'''Write a Program to convert a given degree Celsius temperature into Fahrenheit and\n",
    "convert that Fahrenheit temperature into Kelvin by implementing multilevel\n",
    "inheritance: Class P -> Class Q -> Class R\n",
    "- Class P has the following members: temperature attribute in float\n",
    "- Class Q has the following members: toFehrenheit() method\n",
    "- Class R has the following members: toKelvin() method'''\n",
    "\n",
    "class P :\n",
    "    cel = None\n",
    "    feh = None\n",
    "    kel = None\n",
    "\n",
    "\n",
    "class Q(P):\n",
    "     \n",
    "     def tofehrenheit(self):\n",
    "          \n",
    "          self.cel = float(input('enter temperature in celsius == '))\n",
    "          print('celsius == ',self.cel)\n",
    "          self.feh = self.cel * (9/5) + 32\n",
    "          print('converted into fehrenheit == ',self.feh)\n",
    "\n",
    "\n",
    "class R(Q):\n",
    "\n",
    "     def tokelvin(self):\n",
    "          self.kel = self.cel + 273.15\n",
    "          print('converted into kelvin == ',self.kel)\n",
    "\n",
    "t1 = R()\n",
    "\n",
    "t1.tofehrenheit()\n",
    "t1.tokelvin()"
   ]
  },
  {
   "cell_type": "code",
   "execution_count": 7,
   "metadata": {},
   "outputs": [
    {
     "name": "stdout",
     "output_type": "stream",
     "text": [
      "rate of interest of ICICI ==  3.4\n",
      "rate of interest of BOB ==  2.3\n",
      "rate of interest of SBI ==  1.2\n"
     ]
    }
   ],
   "source": [
    "'''Write a Program to print the rate of interest of different banks using hierarchical\n",
    "inheritance:\n",
    "- Class RBI -> Class SBI\n",
    "- Class RBI -> Class BOB\n",
    "- Class RBI -> Class ICICI\n",
    "- inherit rate attribute and getROI() method in all child classes'''\n",
    "\n",
    "class RBI():\n",
    "    rate = None \n",
    "\n",
    "class SBI(RBI):\n",
    "    def getroi(self):\n",
    "        self.rate = 1.2\n",
    "        # self.rate = float(input('enter rate of interest == '))\n",
    "        print('rate of interest of SBI == ',self.rate)\n",
    "\n",
    "class BOB(RBI):\n",
    "    def getroi(self):\n",
    "        self.rate = 2.3\n",
    "        # self.rate = float(input('enter rate of interest == '))\n",
    "        print('rate of interest of BOB == ',self.rate)\n",
    "\n",
    "class ICICI(RBI):\n",
    "    def getroi(self):\n",
    "        self.rate = 3.4\n",
    "        # self.rate = float(input('enter rate of interest == '))\n",
    "        print('rate of interest of ICICI == ',self.rate)\n",
    "\n",
    "r1 = ICICI()\n",
    "r2 = BOB()\n",
    "r3 = SBI()\n",
    "\n",
    "r1.getroi()\n",
    "r2.getroi()\n",
    "r3.getroi()\n"
   ]
  },
  {
   "cell_type": "code",
   "execution_count": 7,
   "metadata": {},
   "outputs": [
    {
     "name": "stdout",
     "output_type": "stream",
     "text": [
      "n1 == 1 \n",
      " n2 == 2 \n",
      " n3 == 3 \n",
      " n4 == 4\n",
      "sum / total of all number ==  9\n"
     ]
    }
   ],
   "source": [
    "'''Write a Program to perform four different numbers’ sum by inheriting constructors in\n",
    "hybrid inheritance.'''\n",
    "\n",
    "class A():\n",
    "      \n",
    "      n1 = None\n",
    "      n2 = None\n",
    "      n3 = None\n",
    "      n4 = None\n",
    "      \n",
    "class B(A):\n",
    "      def setdata(self):\n",
    "           self.n1 = int(input('enter number 1 == '))\n",
    "           self.n2 = int(input('enter number 2 == '))\n",
    "           self.n3 = int(input('enter number 3 == '))\n",
    "           self.n4 = int(input('enter number 4 == '))\n",
    "\n",
    "class C(A):\n",
    "      def getdata(self):\n",
    "        self.total = self.n1 + self.n2 + self.n3 + self.n3\n",
    "\n",
    "class D(B,C):\n",
    "      \n",
    "      def tot(self):\n",
    "        print(f'n1 == {self.n1} \\n n2 == {self.n2} \\n n3 == {self.n3} \\n n4 == {self.n4}')\n",
    "        # self.total = self.n1 + self.n2 + self.n3 + self.n3\n",
    "        print('sum / total of all number == ',self.total) \n",
    "\n",
    "t1 = D()\n",
    "\n",
    "t1.setdata()\n",
    "t1.getdata()\n",
    "t1.tot()\n",
    "\n",
    "\n"
   ]
  },
  {
   "cell_type": "code",
   "execution_count": null,
   "metadata": {},
   "outputs": [],
   "source": [
    "'''Write a Program to perform all basic arithmetic. operations such as +, -, *, and /\n",
    "operations by implementing method overloading using 2 classes.\n",
    "- use only one method named calculate() in the child class\n",
    "- if you pass 2 arguments, perform division\n",
    "- if you pass 3 arguments, perform subtraction\n",
    "- if you pass 4 arguments, perform multiplication\n",
    "- if you pass 5 arguments, perform addition'''\n",
    "\n"
   ]
  },
  {
   "cell_type": "code",
   "execution_count": null,
   "metadata": {},
   "outputs": [],
   "source": [
    "# Arithmetic Operations with Method Overloading\n",
    "\n",
    "class Arithmetic:\n",
    "    def calculate(self, *args):\n",
    "        if len(args) == 2:\n",
    "            return args[0] / args[1]\n",
    "        elif len(args) == 3:\n",
    "            return args[0] - args[1] - args[2]\n",
    "        elif len(args) == 4:\n",
    "            result = 1\n",
    "            for num in args:\n",
    "                result *= num\n",
    "            return result\n",
    "        elif len(args) == 5:\n",
    "            return sum(args)\n",
    "        else:\n",
    "            return \"Invalid number of arguments\"\n",
    "\n",
    "class AdvancedArithmetic(Arithmetic):\n",
    "    def calculate(self, *args):\n",
    "        return super().calculate(*args)\n",
    "\n",
    "# Example usage\n",
    "calc = AdvancedArithmetic()\n",
    "print(calc.calculate(10, 2))         # Division\n",
    "print(calc.calculate(10, 5, 2))      # Subtraction\n",
    "print(calc.calculate(2, 3, 4, 5))    # Multiplication\n",
    "print(calc.calculate(1, 2, 3, 4, 5)) # Addition"
   ]
  },
  {
   "cell_type": "code",
   "execution_count": 7,
   "metadata": {},
   "outputs": [
    {
     "name": "stdout",
     "output_type": "stream",
     "text": [
      "counting overs == \n",
      "total over in test match == 50 \n",
      "total over in  T20match == 20 \n"
     ]
    }
   ],
   "source": [
    "'''Write a Program to implement method overriding by following the below-mentioned\n",
    "criteria:- Class Cricket -> Class T20Match\n",
    "- Class Cricket -> Class TestMatch\n",
    "- Override getTotalOvers() method in both classes'''\n",
    "\n",
    "class Cricket():\n",
    "      print('counting overs == ')\n",
    "\n",
    "class T20match(Cricket):\n",
    "    def gettotalovers(self):\n",
    "        print(\"total over in  T20match == 20 \")\n",
    "\n",
    "class Testmatch(Cricket):\n",
    "    def gettotalovers(self):\n",
    "         print(\"total over in test match == 50 \")\n",
    "         T20match.gettotalovers(self)\n",
    "    \n",
    "o1 = Testmatch()\n",
    "\n",
    "o1.gettotalovers()"
   ]
  },
  {
   "cell_type": "code",
   "execution_count": 1,
   "metadata": {},
   "outputs": [
    {
     "name": "stdout",
     "output_type": "stream",
     "text": [
      "6 is higher ( second number is higher ) ...\n"
     ]
    }
   ],
   "source": [
    "'''Write a Program to overload < operator to find which object contains a higher value\n",
    "from given 2 numbers.'''\n",
    "\n",
    "class Max:\n",
    "     def __init__(self,value):\n",
    "        self.value=value\n",
    "\n",
    "     def __lt__(self,other):\n",
    "        return self.value < other.value    \n",
    "\n",
    "\n",
    "n1 = int(input('enter number 1 == '))\n",
    "n2 = int(input('enter number 2 == '))\n",
    "\n",
    "Max(n1)\n",
    "Max(n2)\n",
    "\n",
    "if n1 < n2 :\n",
    "    print(f'{n2} is higher ( second number is higher ) ...')\n",
    "else:\n",
    "    print(f'{n1} is higher ( first number is higher )...')    "
   ]
  },
  {
   "cell_type": "code",
   "execution_count": 13,
   "metadata": {},
   "outputs": [
    {
     "data": {
      "text/plain": [
       "'Write a Program to implement exception handling mechanism for different types of\\nscenarios:\\n- a number cannot be divided by zero\\n- a person cannot be able to vote if his/her age is less than 18\\n- a password cannot be validated if it doesn’t contain an uppercase letter'"
      ]
     },
     "execution_count": 13,
     "metadata": {},
     "output_type": "execute_result"
    }
   ],
   "source": [
    "'''Write a Program to implement exception handling mechanism for different types of\n",
    "scenarios:\n",
    "- a number cannot be divided by zero\n",
    "- a person cannot be able to vote if his/her age is less than 18\n",
    "- a password cannot be validated if it doesn’t contain an uppercase letter'''\n",
    "\n",
    "\n"
   ]
  },
  {
   "cell_type": "code",
   "execution_count": null,
   "metadata": {},
   "outputs": [],
   "source": [
    "\n",
    "# 7. Write a Python Program that creates a Shape class with two data members.\n",
    "# The class should have area methods to calculate the area of shape.\n",
    "# Inherit two classes Rectangle and Triangle from Shape class.\n",
    "#  Demonstrate method overriding & use of super keyword.\n",
    "\n",
    "class Shape:\n",
    "    area = None\n",
    "    length = None\n",
    "    width = None\n",
    "    base = None\n",
    "    height = None\n",
    "\n",
    "class Rectangle(Shape):\n",
    "     \n",
    "     def get_values(self):\n",
    "       self.length = int(input('enter length for rectangle == '))\n",
    "       self.width = int(input('enter width for rectangle == '))\n",
    "\n",
    "     def areas(self):\n",
    "          self.area = self.length*self.width\n",
    "          print(self.area)\n",
    "\n",
    "class Triangle(Shape):\n",
    "\n",
    "    def get_values(self):\n",
    "       self.base = int(input('enter base for triangle == '))\n",
    "       self.height = int(input('enter height for triangle == '))\n",
    "\n",
    "    def areas(self):\n",
    "          # super().get_values()\n",
    "          # super().areas()\n",
    "          \n",
    "          self.area = self.base*self.height/2\n",
    "          print(self.area)\n",
    "\n",
    "          super().get_values()\n",
    "          super().areas()\n",
    "\n",
    "\n",
    "a1 = Triangle()\n",
    "a1.get_values()\n",
    "a1.areas()\n"
   ]
  },
  {
   "cell_type": "code",
   "execution_count": null,
   "metadata": {},
   "outputs": [],
   "source": [
    "#  5. Write a Python class named Book with data member book_id, title and author. \n",
    "# Initialize all member variable value using default and parameterized constructor.\n",
    "\n",
    "class Booked:\n",
    "    book_id=None\n",
    "    title=None\n",
    "    author=None\n",
    "    # def __init__(self):\n",
    "        # print('details of the books ...')\n",
    "    def __init__(self,book_id,title,author):\n",
    "        self.book_id=book_id\n",
    "        self.title=title\n",
    "        self.author=author \n",
    "    def __init__(self):\n",
    "        print(self.book_id,self.title,self.author)\n",
    "\n",
    "# b1 = Booked(33,'war','kavi')\n",
    "b2 = Booked()\n",
    "\n"
   ]
  },
  {
   "cell_type": "code",
   "execution_count": 3,
   "metadata": {},
   "outputs": [
    {
     "name": "stdout",
     "output_type": "stream",
     "text": [
      "Caught an exception: This is MyError1 raised in g()\n",
      "Final exception caught: This is MyError2 raised in f()\n"
     ]
    }
   ],
   "source": [
    "class MyError1(Exception):\n",
    "    \"\"\"Custom exception type 1.\"\"\"\n",
    "    pass\n",
    "\n",
    "class MyError2(Exception):\n",
    "    \"\"\"Custom exception type 2.\"\"\"\n",
    "    pass\n",
    "\n",
    "class MyClass:\n",
    "    def g(self):\n",
    "        \"\"\"Method that raises MyError1.\"\"\"\n",
    "        raise MyError1(\"This is MyError1 raised in g()\")\n",
    "\n",
    "    def f(self):\n",
    "        \"\"\"Method that calls g() and raises MyError2 on exception.\"\"\"\n",
    "        try:\n",
    "            self.g()\n",
    "        except MyError1 as e:\n",
    "            print(f\"Caught an exception: {e}\")\n",
    "            raise MyError2(\"This is MyError2 raised in f()\") from e\n",
    "\n",
    "# Create an instance of MyClass and call f()\n",
    "my_instance = MyClass()\n",
    "try:\n",
    "    my_instance.f()\n",
    "except MyError2 as e:\n",
    "    print(f\"Final exception caught: {e}\")\n"
   ]
  },
  {
   "cell_type": "code",
   "execution_count": null,
   "metadata": {},
   "outputs": [],
   "source": []
  }
 ],
 "metadata": {
  "kernelspec": {
   "display_name": "Python 3",
   "language": "python",
   "name": "python3"
  },
  "language_info": {
   "codemirror_mode": {
    "name": "ipython",
    "version": 3
   },
   "file_extension": ".py",
   "mimetype": "text/x-python",
   "name": "python",
   "nbconvert_exporter": "python",
   "pygments_lexer": "ipython3",
   "version": "3.11.4"
  }
 },
 "nbformat": 4,
 "nbformat_minor": 2
}
