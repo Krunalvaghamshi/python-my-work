{
 "cells": [
  {
   "cell_type": "code",
   "execution_count": 1,
   "metadata": {},
   "outputs": [
    {
     "name": "stdout",
     "output_type": "stream",
     "text": [
      "b is greater than a \n"
     ]
    }
   ],
   "source": [
    "a = 33\n",
    "b = 66\n",
    "\n",
    "if a > b :\n",
    "    print('a is greater than b')\n",
    "else :\n",
    "    print('b is greater than a ')"
   ]
  },
  {
   "cell_type": "code",
   "execution_count": 2,
   "metadata": {},
   "outputs": [
    {
     "name": "stdout",
     "output_type": "stream",
     "text": [
      "a is greater than b\n"
     ]
    }
   ],
   "source": [
    "a = 66\n",
    "b = 33\n",
    "\n",
    "print('a is greater than b')if a > b else print('b is greater than a ')\n"
   ]
  },
  {
   "cell_type": "code",
   "execution_count": 4,
   "metadata": {},
   "outputs": [
    {
     "name": "stdout",
     "output_type": "stream",
     "text": [
      "b is max \n"
     ]
    }
   ],
   "source": [
    "a = 36\n",
    "b = 63\n",
    "c = 33\n",
    "\n",
    "if a > b :\n",
    "    if a > c :\n",
    "        print('a is max ')\n",
    "    else :\n",
    "        print('c is max ')\n",
    "else :\n",
    "    if b > c :\n",
    "      print('b is max ')\n",
    "    else :\n",
    "        print(' c is max ')  \n"
   ]
  },
  {
   "cell_type": "code",
   "execution_count": 5,
   "metadata": {},
   "outputs": [
    {
     "name": "stdout",
     "output_type": "stream",
     "text": [
      "c is max\n"
     ]
    }
   ],
   "source": [
    "a = 32\n",
    "b = 36\n",
    "c = 63\n",
    "\n",
    "(print('a is max ')if a > c else print('c is max'))if a > b else (print('b is max ')if b > c else print('c is max' ))"
   ]
  },
  {
   "cell_type": "code",
   "execution_count": 9,
   "metadata": {},
   "outputs": [
    {
     "name": "stdout",
     "output_type": "stream",
     "text": [
      "c max \n"
     ]
    }
   ],
   "source": [
    "a1 = 33\n",
    "b1 = 6\n",
    "c1 = 66\n",
    "d1 = 3\n",
    "\n",
    "if a1 > b1 :\n",
    "    if a1 > c1 :\n",
    "        if a1 > d1 :\n",
    "            print('a max ')\n",
    "        else :\n",
    "            print('d max ')\n",
    "    else :\n",
    "        if c1 > d1 :\n",
    "            print('c max ')\n",
    "        else :\n",
    "            print('d max ')   \n",
    "\n",
    "else :\n",
    "    if b1 > c1 :\n",
    "        if b1 > d1 :\n",
    "            print('b max ')\n",
    "        else :\n",
    "            if c1 > d1 :\n",
    "                print('c max ')\n",
    "            else :\n",
    "                print('d max ')                                      "
   ]
  },
  {
   "cell_type": "code",
   "execution_count": 11,
   "metadata": {},
   "outputs": [
    {
     "name": "stdout",
     "output_type": "stream",
     "text": [
      "b max \n"
     ]
    }
   ],
   "source": [
    "a1 = 33\n",
    "b1 = 6\n",
    "c1 = 66\n",
    "d1 = 3\n",
    "\n",
    "((print('a max ')if a1 > d1 else print('d max'))if a1 > c1 else (print('c max')if c1 < d1 else print('d max ')))if a1 < b1 else (print('b max ')if b1 > d1 else(print('c max')if c1 > d1 else print('d max '))if b1 > c1 else print())\n"
   ]
  },
  {
   "cell_type": "code",
   "execution_count": 12,
   "metadata": {},
   "outputs": [
    {
     "name": "stdout",
     "output_type": "stream",
     "text": [
      "Krunal@333 == password is valid ......\n"
     ]
    }
   ],
   "source": [
    "\"\"\"13. Python Program to check the validity of password input by users.\n",
    "Validation :\n",
    "a. At least 1 letter between [a-z] and 1 letter between [A-Z].\n",
    "b. At least 1 number between [0-9].\n",
    "c. At least 1 character from [$#@].\n",
    "d. Minimum length 6 characters.\n",
    "e. Maximum length 16 characters.\"\"\"\n",
    "\n",
    "password = input('enter an password  == ')\n",
    "\n",
    "le = len(password)\n",
    "\n",
    "if le >= 6 :\n",
    "\n",
    "    lower_case = 0\n",
    "    upper_case = 0\n",
    "    digits = 0\n",
    "    character = 0\n",
    "     \n",
    "    for char in password :\n",
    "        #   print('pssss')\n",
    "       if char.islower() :\n",
    "            lower_case += 1\n",
    "       elif char.isupper():\n",
    "           upper_case += 1\n",
    "       elif char.isdigit() :\n",
    "           digits += 1\n",
    "       elif char in '$#@':\n",
    "           character += 1 \n",
    "\n",
    "    if  lower_case and upper_case and digits and character :\n",
    "            print(f'{password } == password is valid ......')\n",
    "    else :\n",
    "            print(f'{password } == enter an valid passord again ')\n",
    "\n",
    "else :\n",
    "    print('fill atlest 6 characters ')\n",
    "\n",
    "\n",
    "# if upper_case and lower_case and digits and character == True :     #== this if else condition will come in loop of counting character\n",
    "#          print(f'{password } == password is valid ......')\n",
    "# else :\n",
    "#          print(f'{password } == enter an valid passord again ')     "
   ]
  },
  {
   "cell_type": "code",
   "execution_count": null,
   "metadata": {},
   "outputs": [],
   "source": []
  }
 ],
 "metadata": {
  "kernelspec": {
   "display_name": "Python 3",
   "language": "python",
   "name": "python3"
  },
  "language_info": {
   "codemirror_mode": {
    "name": "ipython",
    "version": 3
   },
   "file_extension": ".py",
   "mimetype": "text/x-python",
   "name": "python",
   "nbconvert_exporter": "python",
   "pygments_lexer": "ipython3",
   "version": "3.11.4"
  }
 },
 "nbformat": 4,
 "nbformat_minor": 2
}
